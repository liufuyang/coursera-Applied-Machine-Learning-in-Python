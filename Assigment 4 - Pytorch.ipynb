{
 "cells": [
  {
   "cell_type": "code",
   "execution_count": 1,
   "metadata": {},
   "outputs": [
    {
     "name": "stderr",
     "output_type": "stream",
     "text": [
      "/home/fuyang/Workspace/coursera-Applied-Machine-Learning-in-Python/venv/lib/python3.5/site-packages/IPython/core/interactiveshell.py:2698: DtypeWarning: Columns (11,12,31) have mixed types. Specify dtype option on import or set low_memory=False.\n",
      "  interactivity=interactivity, compiler=compiler, result=result)\n"
     ]
    }
   ],
   "source": [
    "import pandas as pd\n",
    "import numpy as np\n",
    "\n",
    "from sklearn.model_selection import train_test_split\n",
    "from sklearn.neural_network import MLPClassifier\n",
    "from sklearn.preprocessing import MinMaxScaler\n",
    "\n",
    "\n",
    "\n",
    "df_train = pd.read_csv('train.csv', encoding = \"ISO-8859-1\")\n",
    "df_test = pd.read_csv('test.csv', encoding = \"ISO-8859-1\")\n",
    "\n",
    "float_cols = [c for c in df_train if df_train[c].dtype == \"float64\"]\n",
    "float32_cols = {c: np.float32 for c in float_cols}\n",
    "\n",
    "df_train = pd.read_csv('train.csv', encoding = \"ISO-8859-1\", dtype=float32_cols)\n",
    "# df_test is not used in this code example\n",
    "\n",
    "\n",
    "list_to_remove = ['balance_due',\n",
    " 'collection_status',\n",
    " 'compliance_detail',\n",
    " 'payment_amount',\n",
    " 'payment_date',\n",
    " 'payment_status']\n",
    "\n",
    "list_to_remove_all = ['admin_fee', 'state_fee', # 'clean_up_cost', \n",
    "                      'violator_name', 'zip_code', 'country', 'city', 'state',\n",
    "                      'inspector_name', 'violation_street_number', 'violation_street_name',\n",
    "                      'violation_zip_code', 'violation_description',\n",
    "                      'mailing_address_str_number', 'mailing_address_str_name',\n",
    "                      'non_us_str_code',\n",
    "                      'ticket_issued_date', 'hearing_date']\n",
    "\n",
    "df_train.drop(list_to_remove, axis=1, inplace=True)\n",
    "df_train.drop(list_to_remove_all, axis=1, inplace=True)\n",
    "df_test.drop(list_to_remove_all, axis=1, inplace=True)\n",
    "\n",
    "df_train.drop('grafitti_status', axis=1, inplace=True)\n",
    "df_test.drop('grafitti_status', axis=1, inplace=True)\n",
    "\n",
    "###\n",
    "df_latlons = pd.read_csv('latlons.csv')\n",
    "df_address =  pd.read_csv('addresses.csv')\n",
    "df_id_latlons = df_address.set_index('address').join(df_latlons.set_index('address'))\n",
    "\n",
    "df_train = df_train.set_index('ticket_id').join(df_id_latlons.set_index('ticket_id'))\n",
    "df_test = df_test.set_index('ticket_id').join(df_id_latlons.set_index('ticket_id'))\n",
    "\n",
    "###\n",
    "vio_code_freq10 = df_train.violation_code.value_counts().index[0:10]\n",
    "df_train['violation_code_freq10'] = [list(vio_code_freq10).index(c) if c in vio_code_freq10 else -1 for c in df_train.violation_code ]\n",
    "df_train.drop('violation_code', axis=1, inplace=True)\n",
    "df_test['violation_code_freq10'] = [list(vio_code_freq10).index(c) if c in vio_code_freq10 else -1 for c in df_test.violation_code ]\n",
    "df_test.drop('violation_code', axis=1, inplace=True)\n",
    "\n",
    "###\n",
    "df_train = df_train[df_train.compliance.isnull() == False]\n",
    "\n",
    "df_train.lat.fillna(method='pad', inplace=True)\n",
    "df_train.lon.fillna(method='pad', inplace=True)\n",
    "#df_train.state.fillna(method='pad', inplace=True)\n",
    "\n",
    "df_test.lat.fillna(method='pad', inplace=True)\n",
    "df_test.lon.fillna(method='pad', inplace=True)\n",
    "#df_test.state.fillna(method='pad', inplace=True)\n",
    "\n",
    "\n",
    "df_train.lat = df_train.lat.apply(lambda l: l if l < 42.45 else 42.45)\n",
    "df_train.lat = df_train.lat.apply(lambda l: l if l > 42.25 else 42.25)\n",
    "\n",
    "df_train.lon = df_train.lon.apply(lambda l: l if l < -82.9 else -82.9)\n",
    "df_train.lon = df_train.lon.apply(lambda l: l if l > -83.30 else -83.30)\n",
    "\n",
    "\n",
    "df_train.fine_amount = df_train.fine_amount.apply(lambda l: 50 if l <= 50 else l)\n",
    "df_train.fine_amount = df_train.fine_amount.apply(lambda l: 100 if l >= 100 and l<=160  else l)\n",
    "df_train.fine_amount = df_train.fine_amount.apply(lambda l: 200 if l >= 160 and l<250  else l)\n",
    "df_train.fine_amount = df_train.fine_amount.apply(lambda l: 300 if l >= 250 else l)\n",
    "df_train.fine_amount = df_train.fine_amount.apply(lambda l: l if l > 0 else 0)\n",
    "\n",
    "df_train.late_fee = df_train.late_fee.apply(lambda l: 5 if l <= 5 else l)\n",
    "df_train.late_fee = df_train.late_fee.apply(lambda l: 10 if l >= 10 and l<=15 else l)\n",
    "df_train.late_fee = df_train.late_fee.apply(lambda l: 20 if l >= 16 and l<=22  else l)\n",
    "df_train.late_fee = df_train.late_fee.apply(lambda l: 25 if l >= 22 and l<=30  else l)\n",
    "df_train.late_fee = df_train.late_fee.apply(lambda l: 40 if l >= 31 else l)\n",
    "\n",
    "##\n",
    "\n",
    "df_train.drop('agency_name', axis=1, inplace=True)\n",
    "\n",
    "one_hot_encode_columns = ['violation_code_freq10', 'disposition', \n",
    "                         'fine_amount', 'late_fee']\n",
    "\n",
    "# df_train.drop(one_hot_encode_columns, axis=1, inplace=True)\n",
    "\n",
    "df_train_old = df_train\n",
    "\n",
    "# df_train = df_train[['fine_amount', 'late_fee', 'compliance','violation_code_freq10','disposition', ]]\n",
    "\n",
    "df_train = pd.get_dummies(df_train, columns=one_hot_encode_columns)\n",
    "df_test = pd.get_dummies(df_test, columns=one_hot_encode_columns)\n",
    "\n",
    "###\n",
    "\n",
    "train_features = df_train.columns.drop('compliance')\n",
    "\n",
    "#######\n",
    "X_train = df_train[train_features]\n",
    "y_train = df_train.compliance\n",
    "\n",
    "X_train, X_test, y_train, y_test= train_test_split(X_train, \n",
    "                                                    y_train, \n",
    "                                                    random_state=0,\n",
    "                                                    test_size=0.2)\n",
    "\n",
    "#######\n",
    "\n",
    "scaler = MinMaxScaler()\n",
    "\n",
    "X_train_scaled = scaler.fit_transform(X_train)\n",
    "X_test_scaled = scaler.transform(X_test)"
   ]
  },
  {
   "cell_type": "code",
   "execution_count": 2,
   "metadata": {},
   "outputs": [
    {
     "data": {
      "text/plain": [
       "Index(['discount_amount', 'clean_up_cost', 'judgment_amount', 'compliance',\n",
       "       'lat', 'lon', 'violation_code_freq10_-1', 'violation_code_freq10_0',\n",
       "       'violation_code_freq10_1', 'violation_code_freq10_2',\n",
       "       'violation_code_freq10_3', 'violation_code_freq10_4',\n",
       "       'violation_code_freq10_5', 'violation_code_freq10_6',\n",
       "       'violation_code_freq10_7', 'violation_code_freq10_8',\n",
       "       'violation_code_freq10_9',\n",
       "       'disposition_Responsible (Fine Waived) by Deter',\n",
       "       'disposition_Responsible by Admission',\n",
       "       'disposition_Responsible by Default',\n",
       "       'disposition_Responsible by Determination', 'fine_amount_50.0',\n",
       "       'fine_amount_95.0', 'fine_amount_100.0', 'fine_amount_200.0',\n",
       "       'fine_amount_300.0', 'late_fee_5.0', 'late_fee_9.5', 'late_fee_10.0',\n",
       "       'late_fee_20.0', 'late_fee_25.0', 'late_fee_40.0'],\n",
       "      dtype='object')"
      ]
     },
     "execution_count": 2,
     "metadata": {},
     "output_type": "execute_result"
    }
   ],
   "source": [
    "df_train.columns"
   ]
  },
  {
   "cell_type": "code",
   "execution_count": 3,
   "metadata": {
    "collapsed": true
   },
   "outputs": [],
   "source": [
    "%matplotlib inline"
   ]
  },
  {
   "cell_type": "code",
   "execution_count": 4,
   "metadata": {},
   "outputs": [
    {
     "data": {
      "text/plain": [
       "<matplotlib.axes._subplots.AxesSubplot at 0x7fde019b3be0>"
      ]
     },
     "execution_count": 4,
     "metadata": {},
     "output_type": "execute_result"
    },
    {
     "data": {
      "image/png": "[encoded data removed]",
      "text/plain": [
       "<matplotlib.figure.Figure at 0x7fde38746748>"
      ]
     },
     "metadata": {},
     "output_type": "display_data"
    }
   ],
   "source": [
    "df_train.compliance.plot.hist()"
   ]
  },
  {
   "cell_type": "code",
   "execution_count": 5,
   "metadata": {},
   "outputs": [
    {
     "data": {
      "text/plain": [
       "<matplotlib.axes._subplots.AxesSubplot at 0x7fde00627780>"
      ]
     },
     "execution_count": 5,
     "metadata": {},
     "output_type": "execute_result"
    },
    {
     "data": {
      "image/png": "[encoded data removed]",
      "text/plain": [
       "<matplotlib.figure.Figure at 0x7fde036aaac8>"
      ]
     },
     "metadata": {},
     "output_type": "display_data"
    }
   ],
   "source": [
    "df_train[['lat']].plot.hist(stacked=True, bins=20)"
   ]
  },
  {
   "cell_type": "code",
   "execution_count": 6,
   "metadata": {},
   "outputs": [],
   "source": [
    "zz =df_train.lat.value_counts().index"
   ]
  },
  {
   "cell_type": "code",
   "execution_count": 7,
   "metadata": {},
   "outputs": [
    {
     "data": {
      "text/plain": [
       "Float64Index([     42.25,   42.25023, 42.2504467, 42.2504496, 42.2504749,\n",
       "              42.2505595, 42.2506088, 42.2507538, 42.2507788, 42.2507964,\n",
       "              ...\n",
       "               42.449841, 42.4498563, 42.4498695, 42.4498717, 42.4498993,\n",
       "              42.4499021, 42.4499344, 42.4499363,  42.449962,      42.45],\n",
       "             dtype='float64', length=61446)"
      ]
     },
     "execution_count": 7,
     "metadata": {},
     "output_type": "execute_result"
    }
   ],
   "source": [
    "zz.sort_values()"
   ]
  },
  {
   "cell_type": "code",
   "execution_count": 8,
   "metadata": {},
   "outputs": [
    {
     "data": {
      "text/plain": [
       "<matplotlib.axes._subplots.AxesSubplot at 0x7fde035bca90>"
      ]
     },
     "execution_count": 8,
     "metadata": {},
     "output_type": "execute_result"
    },
    {
     "data": {
      "image/png": "[encoded data removed]",
      "text/plain": [
       "<matplotlib.figure.Figure at 0x7fde03f18cf8>"
      ]
     },
     "metadata": {},
     "output_type": "display_data"
    }
   ],
   "source": [
    "\n",
    "df_train[['lat']].plot.hist(stacked=True, bins=20)"
   ]
  },
  {
   "cell_type": "code",
   "execution_count": 9,
   "metadata": {},
   "outputs": [
    {
     "data": {
      "text/plain": [
       "<matplotlib.axes._subplots.AxesSubplot at 0x7fde0095f6a0>"
      ]
     },
     "execution_count": 9,
     "metadata": {},
     "output_type": "execute_result"
    },
    {
     "data": {
      "image/png": "[encoded data removed]",
      "text/plain": [
       "<matplotlib.figure.Figure at 0x7fde018892e8>"
      ]
     },
     "metadata": {},
     "output_type": "display_data"
    }
   ],
   "source": [
    "df_train[['lon']].plot.hist(stacked=True, bins=20)"
   ]
  },
  {
   "cell_type": "code",
   "execution_count": 10,
   "metadata": {},
   "outputs": [
    {
     "data": {
      "text/plain": [
       "<matplotlib.axes._subplots.AxesSubplot at 0x7fde03e32e48>"
      ]
     },
     "execution_count": 10,
     "metadata": {},
     "output_type": "execute_result"
    },
    {
     "data": {
      "image/png": "[encoded data removed]",
      "text/plain": [
       "<matplotlib.figure.Figure at 0x7fde00980908>"
      ]
     },
     "metadata": {},
     "output_type": "display_data"
    }
   ],
   "source": [
    "df_train[['lon']].plot.hist(stacked=True, bins=20)"
   ]
  },
  {
   "cell_type": "code",
   "execution_count": 11,
   "metadata": {},
   "outputs": [
    {
     "data": {
      "text/plain": [
       "<matplotlib.axes._subplots.AxesSubplot at 0x7fde03d73eb8>"
      ]
     },
     "execution_count": 11,
     "metadata": {},
     "output_type": "execute_result"
    },
    {
     "data": {
      "image/png": "[encoded data removed]",
      "text/plain": [
       "<matplotlib.figure.Figure at 0x7fde035ad390>"
      ]
     },
     "metadata": {},
     "output_type": "display_data"
    }
   ],
   "source": [
    "df_train_old.fine_amount.plot.hist(stacked=True, bins=50)"
   ]
  },
  {
   "cell_type": "code",
   "execution_count": 12,
   "metadata": {},
   "outputs": [
    {
     "data": {
      "text/plain": [
       "<matplotlib.axes._subplots.AxesSubplot at 0x7fde030a2da0>"
      ]
     },
     "execution_count": 12,
     "metadata": {},
     "output_type": "execute_result"
    },
    {
     "data": {
      "image/png": "[encoded data removed]",
      "text/plain": [
       "<matplotlib.figure.Figure at 0x7fde03f309e8>"
      ]
     },
     "metadata": {},
     "output_type": "display_data"
    }
   ],
   "source": [
    "df_train_old.late_fee.plot.hist(stacked=True, bins=50)"
   ]
  },
  {
   "cell_type": "code",
   "execution_count": 13,
   "metadata": {},
   "outputs": [
    {
     "data": {
      "text/plain": [
       "<torch._C.Generator at 0x7fde030673c0>"
      ]
     },
     "execution_count": 13,
     "metadata": {},
     "output_type": "execute_result"
    }
   ],
   "source": [
    "import torch\n",
    "from torch.autograd import Variable\n",
    "import torch.utils.data as Data\n",
    "import torch.nn.functional as F\n",
    "import matplotlib.pyplot as plt\n",
    "%matplotlib inline\n",
    "\n",
    "torch.manual_seed(1)    # reproducible"
   ]
  },
  {
   "cell_type": "code",
   "execution_count": 14,
   "metadata": {},
   "outputs": [
    {
     "data": {
      "text/plain": [
       "dtype('float32')"
      ]
     },
     "execution_count": 14,
     "metadata": {},
     "output_type": "execute_result"
    }
   ],
   "source": [
    "y_train.dtype"
   ]
  },
  {
   "cell_type": "code",
   "execution_count": 15,
   "metadata": {},
   "outputs": [],
   "source": [
    "x_tensor = torch.from_numpy(X_train_scaled.astype(np.float32))\n",
    "y_tensor = torch.from_numpy(y_train.as_matrix().astype(np.int64))\n",
    "\n",
    "test_x = torch.from_numpy(X_test_scaled.astype(np.float32))\n",
    "test_y = torch.from_numpy(y_test.as_matrix().astype(np.int64))"
   ]
  },
  {
   "cell_type": "code",
   "execution_count": 16,
   "metadata": {},
   "outputs": [
    {
     "data": {
      "text/plain": [
       "\n",
       " 0.0000  0.0000  0.0127  ...   0.0000  0.0000  0.0000\n",
       " 0.0000  0.0000  0.0277  ...   0.0000  1.0000  0.0000\n",
       " 0.0000  0.0000  0.0077  ...   0.0000  0.0000  0.0000\n",
       "          ...             ⋱             ...          \n",
       " 0.0000  0.0000  0.0227  ...   1.0000  0.0000  0.0000\n",
       " 0.0000  0.0000  0.0277  ...   0.0000  1.0000  0.0000\n",
       " 0.0000  0.0000  0.0254  ...   0.0000  0.0000  0.0000\n",
       "[torch.FloatTensor of size 127904x31]"
      ]
     },
     "execution_count": 16,
     "metadata": {},
     "output_type": "execute_result"
    }
   ],
   "source": [
    "x_tensor"
   ]
  },
  {
   "cell_type": "code",
   "execution_count": 17,
   "metadata": {},
   "outputs": [
    {
     "data": {
      "text/plain": [
       "\n",
       " 0\n",
       " 0\n",
       " 0\n",
       "⋮ \n",
       " 0\n",
       " 0\n",
       " 0\n",
       "[torch.LongTensor of size 127904]"
      ]
     },
     "execution_count": 17,
     "metadata": {},
     "output_type": "execute_result"
    }
   ],
   "source": [
    "y_tensor"
   ]
  },
  {
   "cell_type": "code",
   "execution_count": 18,
   "metadata": {
    "collapsed": true
   },
   "outputs": [],
   "source": [
    "class Net(torch.nn.Module):\n",
    "    def __init__(self, n_feature, n_hidden, n_output):\n",
    "        super(Net, self).__init__()\n",
    "        self.hidden = torch.nn.Linear(n_feature, n_hidden)   # hidden layer\n",
    "        self.out = torch.nn.Linear(n_hidden, n_output)   # output layer\n",
    "\n",
    "    def forward(self, x):\n",
    "        x = F.relu(self.hidden(x))      # activation function for hidden layer\n",
    "        x = self.out(x)\n",
    "        return x"
   ]
  },
  {
   "cell_type": "code",
   "execution_count": 19,
   "metadata": {},
   "outputs": [],
   "source": [
    "BATCH_SIZE=800\n",
    "\n",
    "torch_dataset = Data.TensorDataset(data_tensor=x_tensor, target_tensor=y_tensor)\n",
    "loader = Data.DataLoader(\n",
    "    dataset=torch_dataset,      # torch TensorDataset format\n",
    "    batch_size=BATCH_SIZE,      # mini batch size\n",
    "    shuffle=True,               # random shuffle for training\n",
    "    num_workers=2,              # subprocesses for loading data\n",
    ")"
   ]
  },
  {
   "cell_type": "code",
   "execution_count": 20,
   "metadata": {},
   "outputs": [
    {
     "name": "stdout",
     "output_type": "stream",
     "text": [
      "Epoch:  0 | train loss: 0.7655 | test accuracy: 0.93\n",
      "Epoch:  0 | train loss: 0.2570 | test accuracy: 0.93\n",
      "Epoch:  0 | train loss: 0.2034 | test accuracy: 0.93\n",
      "Epoch:  0 | train loss: 0.2221 | test accuracy: 0.94\n",
      "Epoch:  1 | train loss: 0.1913 | test accuracy: 0.94\n",
      "Epoch:  1 | train loss: 0.2129 | test accuracy: 0.94\n",
      "Epoch:  1 | train loss: 0.1985 | test accuracy: 0.94\n",
      "Epoch:  1 | train loss: 0.2094 | test accuracy: 0.94\n",
      "Epoch:  2 | train loss: 0.1795 | test accuracy: 0.94\n",
      "Epoch:  2 | train loss: 0.1881 | test accuracy: 0.94\n",
      "Epoch:  2 | train loss: 0.2023 | test accuracy: 0.94\n",
      "Epoch:  2 | train loss: 0.2088 | test accuracy: 0.94\n",
      "Epoch:  3 | train loss: 0.1890 | test accuracy: 0.94\n",
      "Epoch:  3 | train loss: 0.1832 | test accuracy: 0.94\n",
      "Epoch:  3 | train loss: 0.1898 | test accuracy: 0.94\n",
      "Epoch:  3 | train loss: 0.1729 | test accuracy: 0.94\n",
      "Epoch:  4 | train loss: 0.1873 | test accuracy: 0.94\n",
      "Epoch:  4 | train loss: 0.1875 | test accuracy: 0.94\n",
      "Epoch:  4 | train loss: 0.2081 | test accuracy: 0.94\n",
      "Epoch:  4 | train loss: 0.2178 | test accuracy: 0.94\n"
     ]
    }
   ],
   "source": [
    "EPOCH = 5\n",
    "N_HIDDEN = 100\n",
    "# net = Net(n_feature=26, n_hidden=2, n_output=2) \n",
    "\n",
    "net = torch.nn.Sequential(\n",
    "    torch.nn.Linear(31, N_HIDDEN),\n",
    "    #torch.nn.Dropout(0.5),  # drop 50% of the neuron\n",
    "    torch.nn.ReLU(),\n",
    "    torch.nn.Linear(N_HIDDEN, 2),\n",
    ")\n",
    "\n",
    "\n",
    "optimizer = torch.optim.RMSprop(net.parameters(), lr=0.02)\n",
    "loss_func = torch.nn.CrossEntropyLoss()  # the target label is NOT an one-hotted\n",
    "\n",
    "for epoch in range(EPOCH):\n",
    "    for step, (x, y) in enumerate(loader):   # gives batch data, normalize x when iterate train_loader\n",
    "        b_x = Variable(x)   # batch x\n",
    "        b_y = Variable(y)   # batch y\n",
    "\n",
    "        output = net(b_x)               # cnn output\n",
    "        loss = loss_func(output, b_y)   # cross entropy loss\n",
    "        optimizer.zero_grad()           # clear gradients for this training step\n",
    "        loss.backward()                 # backpropagation, compute gradients\n",
    "        optimizer.step()                # apply gradients\n",
    "\n",
    "        if step % 50 == 0:\n",
    "            test_output = net(Variable(test_x))\n",
    "            pred_y = torch.max(test_output, 1)[1].data.squeeze()\n",
    "            accuracy = sum(pred_y == test_y) / float(test_y.size(0))\n",
    "            print('Epoch: ', epoch, '| train loss: %.4f' % loss.data[0], '| test accuracy: %.2f' % accuracy)\n",
    "\n"
   ]
  },
  {
   "cell_type": "code",
   "execution_count": 21,
   "metadata": {},
   "outputs": [
    {
     "name": "stdout",
     "output_type": "stream",
     "text": [
      "0.909359605911 0.199567567568 0.327304964539\n"
     ]
    }
   ],
   "source": [
    "from sklearn.metrics import recall_score, precision_score, f1_score\n",
    "\n",
    "test_output = net(Variable(x_tensor))\n",
    "train_pred = torch.max(test_output, 1)[1].data.numpy().squeeze()\n",
    "\n",
    "print(precision_score(y_train, train_pred),\n",
    "      recall_score(y_train, train_pred),\n",
    "      f1_score(y_train, train_pred))"
   ]
  },
  {
   "cell_type": "code",
   "execution_count": 22,
   "metadata": {},
   "outputs": [
    {
     "name": "stdout",
     "output_type": "stream",
     "text": [
      "0.919028340081 0.193438432041 0.319605772615\n"
     ]
    }
   ],
   "source": [
    "test_output = net(Variable(test_x))\n",
    "test_pred = torch.max(test_output, 1)[1].data.numpy().squeeze()\n",
    "print(precision_score(y_test, test_pred),\n",
    "      recall_score(y_test, test_pred),\n",
    "      f1_score(y_test, test_pred))"
   ]
  },
  {
   "cell_type": "code",
   "execution_count": 23,
   "metadata": {},
   "outputs": [
    {
     "data": {
      "image/png": "[encoded data removed]",
      "text/plain": [
       "<matplotlib.figure.Figure at 0x7fde3e7fb240>"
      ]
     },
     "metadata": {},
     "output_type": "display_data"
    }
   ],
   "source": [
    "test_pro = F.softmax(test_output)\n",
    "\n",
    "def draw_roc_curve():\n",
    "    from sklearn.metrics import roc_curve, auc\n",
    "\n",
    "    fpr_lr, tpr_lr, _ = roc_curve(y_test, test_pro[:,1].data.numpy())\n",
    "    roc_auc_lr = auc(fpr_lr, tpr_lr)\n",
    "\n",
    "    plt.figure()\n",
    "    plt.xlim([-0.01, 1.00])\n",
    "    plt.ylim([-0.01, 1.01])\n",
    "    plt.plot(fpr_lr, tpr_lr, lw=3, label='LogRegr ROC curve (area = {:0.2f})'.format(roc_auc_lr))\n",
    "    plt.xlabel('False Positive Rate', fontsize=16)\n",
    "    plt.ylabel('True Positive Rate', fontsize=16)\n",
    "    plt.title('ROC curve (1-of-10 digits classifier)', fontsize=16)\n",
    "    plt.legend(loc='lower right', fontsize=13)\n",
    "    plt.plot([0, 1], [0, 1], color='navy', lw=3, linestyle='--')\n",
    "    plt.axes().set_aspect('equal')\n",
    "    plt.show()\n",
    "    \n",
    "draw_roc_curve()"
   ]
  },
  {
   "cell_type": "code",
   "execution_count": null,
   "metadata": {
    "collapsed": true
   },
   "outputs": [],
   "source": []
  }
 ],
 "metadata": {
  "kernelspec": {
   "display_name": "Python 3",
   "language": "python",
   "name": "python3"
  },
  "language_info": {
   "codemirror_mode": {
    "name": "ipython",
    "version": 3
   },
   "file_extension": ".py",
   "mimetype": "text/x-python",
   "name": "python",
   "nbconvert_exporter": "python",
   "pygments_lexer": "ipython3",
   "version": "3.5.2"
  }
 },
 "nbformat": 4,
 "nbformat_minor": 2
}
